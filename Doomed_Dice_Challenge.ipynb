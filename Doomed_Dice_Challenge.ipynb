{
  "nbformat": 4,
  "nbformat_minor": 0,
  "metadata": {
    "colab": {
      "provenance": []
    },
    "kernelspec": {
      "name": "python3",
      "display_name": "Python 3"
    },
    "language_info": {
      "name": "python"
    }
  },
  "cells": [
    {
      "cell_type": "markdown",
      "source": [
        "Part - A **Understanding** **Dice** **Probabilities** **and** **Distributions**"
      ],
      "metadata": {
        "id": "6W0FG4OpgP37"
      }
    },
    {
      "cell_type": "code",
      "execution_count": 1,
      "metadata": {
        "colab": {
          "base_uri": "https://localhost:8080/"
        },
        "id": "F8Z-OulleOjE",
        "outputId": "16689ce3-1683-440a-ef13-753ad0cd591c"
      },
      "outputs": [
        {
          "output_type": "stream",
          "name": "stdout",
          "text": [
            "Total combinations: 36\n",
            "\n",
            "Distribution Matrix:\n",
            "[[ 2  3  4  5  6  7]\n",
            " [ 3  4  5  6  7  8]\n",
            " [ 4  5  6  7  8  9]\n",
            " [ 5  6  7  8  9 10]\n",
            " [ 6  7  8  9 10 11]\n",
            " [ 7  8  9 10 11 12]]\n",
            "\n",
            "Probability of Each Sum:\n",
            "P(Sum = 2) = 0.0278\n",
            "P(Sum = 3) = 0.0556\n",
            "P(Sum = 4) = 0.0833\n",
            "P(Sum = 5) = 0.1111\n",
            "P(Sum = 6) = 0.1389\n",
            "P(Sum = 7) = 0.1667\n",
            "P(Sum = 8) = 0.1389\n",
            "P(Sum = 9) = 0.1111\n",
            "P(Sum = 10) = 0.0833\n",
            "P(Sum = 11) = 0.0556\n",
            "P(Sum = 12) = 0.0278\n"
          ]
        }
      ],
      "source": [
        "import numpy as np\n",
        "import itertools\n",
        "from collections import Counter\n",
        "\n",
        "# Part A - Step 1: Compute total combinations\n",
        "die_A = [1, 2, 3, 4, 5, 6]\n",
        "die_B = [1, 2, 3, 4, 5, 6]\n",
        "all_combinations = list(itertools.product(die_A, die_B))\n",
        "\n",
        "# Total combinations calculation\n",
        "num_combinations = len(all_combinations)  # 6 * 6 = 36\n",
        "print(f\"Total combinations: {num_combinations}\")\n",
        "\n",
        "# Part A - Step 2: Distribution Matrix\n",
        "sum_matrix = np.zeros((6, 6), dtype=int)\n",
        "for i in range(6):\n",
        "    for j in range(6):\n",
        "        sum_matrix[i, j] = die_A[i] + die_B[j]\n",
        "\n",
        "print(\"\\nDistribution Matrix:\")\n",
        "print(sum_matrix)\n",
        "\n",
        "# Part A - Step 3: Probability Calculation\n",
        "sum_counts = Counter([sum(pair) for pair in all_combinations])\n",
        "print(\"\\nProbability of Each Sum:\")\n",
        "for key in sorted(sum_counts.keys()):\n",
        "    probability = sum_counts[key] / num_combinations\n",
        "    print(f\"P(Sum = {key}) = {probability:.4f}\")\n"
      ]
    },
    {
      "cell_type": "markdown",
      "source": [
        "Part -B **Restoring** **Doomed** **Dice** **While** **Maintaining** **Probabilities**"
      ],
      "metadata": {
        "id": "a_vcj4LVf0yr"
      }
    },
    {
      "cell_type": "code",
      "source": [
        "import itertools\n",
        "from collections import Counter\n",
        "\n",
        "def compute_probabilities(die_A, die_B):\n",
        "    \"\"\"Computes probability distribution for given dice.\"\"\"\n",
        "    all_combinations = list(itertools.product(die_A, die_B))\n",
        "    sum_counts = Counter(sum(pair) for pair in all_combinations)\n",
        "    total_rolls = len(all_combinations)\n",
        "\n",
        "    probabilities = {s: count / total_rolls for s, count in sum_counts.items()}\n",
        "    return probabilities\n",
        "\n",
        "def undoom_dice(Die_A, Die_B):\n",
        "    \"\"\"Returns new dice configurations that preserve original probabilities.\"\"\"\n",
        "    # New Die A (≤ 4) and New Die B (Flexible)\n",
        "    New_Die_A = [1, 2, 2, 3, 3, 4]\n",
        "    New_Die_B = [1, 3, 4, 5, 6, 8]\n",
        "\n",
        "    # Validate that probabilities match\n",
        "    original_probs = compute_probabilities(Die_A, Die_B)\n",
        "    new_probs = compute_probabilities(New_Die_A, New_Die_B)\n",
        "\n",
        "    if original_probs == new_probs:\n",
        "        print(\"\\n✅ Loki's Cursed Dice Maintain the Same Distribution!\")\n",
        "    else:\n",
        "        print(\"\\n❌ The New Dice Do Not Maintain the Same Distribution!\")\n",
        "\n",
        "    return New_Die_A, New_Die_B\n",
        "\n",
        "# Example Usage\n",
        "Die_A = [1, 2, 3, 4, 5, 6]\n",
        "Die_B = [1, 2, 3, 4, 5, 6]\n",
        "\n",
        "New_Die_A, New_Die_B = undoom_dice(Die_A, Die_B)\n",
        "print(\"New Die A:\", New_Die_A)\n",
        "print(\"New Die B:\", New_Die_B)\n"
      ],
      "metadata": {
        "colab": {
          "base_uri": "https://localhost:8080/"
        },
        "id": "8iv37R0_faf3",
        "outputId": "cc047297-1ac2-4649-d003-b3ca2e941030"
      },
      "execution_count": 5,
      "outputs": [
        {
          "output_type": "stream",
          "name": "stdout",
          "text": [
            "\n",
            "✅ Loki's Cursed Dice Maintain the Same Distribution!\n",
            "New Die A: [1, 2, 2, 3, 3, 4]\n",
            "New Die B: [1, 3, 4, 5, 6, 8]\n"
          ]
        }
      ]
    }
  ]
}